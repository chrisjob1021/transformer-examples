{
 "cells": [
  {
   "cell_type": "code",
   "execution_count": null,
   "metadata": {},
   "outputs": [
    {
     "name": "stdout",
     "output_type": "stream",
     "text": [
      "Vocabulary size: 50257\n"
     ]
    },
    {
     "ename": "TypeError",
     "evalue": "MultiHeadAttention.__init__() missing 1 required positional argument: 'W_O'",
     "output_type": "error",
     "traceback": [
      "\u001b[31m---------------------------------------------------------------------------\u001b[39m",
      "\u001b[31mTypeError\u001b[39m                                 Traceback (most recent call last)",
      "\u001b[36mCell\u001b[39m\u001b[36m \u001b[39m\u001b[32mIn[1]\u001b[39m\u001b[32m, line 15\u001b[39m\n\u001b[32m     12\u001b[39m \u001b[38;5;28mprint\u001b[39m(\u001b[33mf\u001b[39m\u001b[33m\"\u001b[39m\u001b[33mVocabulary size: \u001b[39m\u001b[38;5;132;01m{\u001b[39;00mvocab_size\u001b[38;5;132;01m}\u001b[39;00m\u001b[33m\"\u001b[39m)\n\u001b[32m     14\u001b[39m config = Config(vocab_size=vocab_size)\n\u001b[32m---> \u001b[39m\u001b[32m15\u001b[39m model = \u001b[43mRoFormerEncoder\u001b[49m\u001b[43m(\u001b[49m\u001b[43mconfig\u001b[49m\u001b[43m)\u001b[49m\n\u001b[32m     16\u001b[39m outputs = model(input_ids)\n\u001b[32m     18\u001b[39m \u001b[38;5;66;03m# Now recreate the model with the updated config\u001b[39;00m\n",
      "\u001b[36mFile \u001b[39m\u001b[32m~/dev/transformer-examples/models/roformer.py:45\u001b[39m, in \u001b[36mRoFormerEncoder.__init__\u001b[39m\u001b[34m(self, config)\u001b[39m\n\u001b[32m     42\u001b[39m \u001b[38;5;28mself\u001b[39m.config = config\n\u001b[32m     44\u001b[39m \u001b[38;5;28mself\u001b[39m.embeddings = nn.Embedding(config.vocab_size, config.d_model)\n\u001b[32m---> \u001b[39m\u001b[32m45\u001b[39m \u001b[38;5;28mself\u001b[39m.layers = nn.ModuleList([\u001b[43mRoFormerEncoderLayer\u001b[49m\u001b[43m(\u001b[49m\u001b[43mconfig\u001b[49m\u001b[43m)\u001b[49m \u001b[38;5;28;01mfor\u001b[39;00m _ \u001b[38;5;129;01min\u001b[39;00m \u001b[38;5;28mrange\u001b[39m(config.num_layers)])\n\u001b[32m     46\u001b[39m \u001b[38;5;28mself\u001b[39m.dropout = nn.Dropout(config.dropout)\n",
      "\u001b[36mFile \u001b[39m\u001b[32m~/dev/transformer-examples/models/roformer.py:10\u001b[39m, in \u001b[36mRoFormerEncoderLayer.__init__\u001b[39m\u001b[34m(self, config)\u001b[39m\n\u001b[32m      7\u001b[39m \u001b[38;5;28msuper\u001b[39m().\u001b[34m__init__\u001b[39m()\n\u001b[32m      8\u001b[39m \u001b[38;5;28mself\u001b[39m.config = config\n\u001b[32m---> \u001b[39m\u001b[32m10\u001b[39m \u001b[38;5;28mself\u001b[39m.self_attn = \u001b[43mattention\u001b[49m\u001b[43m.\u001b[49m\u001b[43mMultiHeadAttention\u001b[49m\u001b[43m(\u001b[49m\u001b[43mconfig\u001b[49m\u001b[43m)\u001b[49m\n\u001b[32m     12\u001b[39m \u001b[38;5;66;03m# https://pytorch.org/docs/stable/generated/torch.nn.LayerNorm.html#torch.nn.LayerNorm\u001b[39;00m\n\u001b[32m     13\u001b[39m \u001b[38;5;66;03m# Applies Layer Normalization over a mini-batch of inputs.\u001b[39;00m\n\u001b[32m     14\u001b[39m \u001b[38;5;66;03m# This layer implements the operation as described in the paper Layer Normalization\u001b[39;00m\n\u001b[32m     15\u001b[39m \u001b[38;5;66;03m# (Ba et al., 2016: https://arxiv.org/abs/1607.06450)\u001b[39;00m\n\u001b[32m     16\u001b[39m \u001b[38;5;28mself\u001b[39m.dropout1 = nn.Dropout(config.dropout)\n",
      "\u001b[31mTypeError\u001b[39m: MultiHeadAttention.__init__() missing 1 required positional argument: 'W_O'"
     ]
    }
   ],
   "source": [
    "from transformers import AutoTokenizer\n",
    "from roformer import RoFormerEncoder\n",
    "from utils import Config\n",
    "\n",
    "tokenizer = AutoTokenizer.from_pretrained(\"gpt2\")\n",
    "\n",
    "prompt = \"Hello, how are you?\"\n",
    "input_ids = tokenizer(prompt, return_tensors=\"pt\").input_ids\n",
    "\n",
    "# Get the vocabulary size from the tokenizer\n",
    "vocab_size = len(tokenizer.get_vocab())\n",
    "print(f\"Vocabulary size: {vocab_size}\")\n",
    "\n",
    "config = Config(vocab_size=vocab_size)\n",
    "model = RoFormerEncoder(config)\n",
    "outputs = model(input_ids)\n",
    "\n",
    "# Now recreate the model with the updated config\n",
    "model = RoFormerEncoder(config)\n",
    "outputs = model(input_ids)\n"
   ]
  },
  {
   "cell_type": "code",
   "execution_count": 4,
   "metadata": {},
   "outputs": [
    {
     "data": {
      "text/plain": [
       "tensor([[15496,    11,   703,   389,   345,    30]])"
      ]
     },
     "execution_count": 4,
     "metadata": {},
     "output_type": "execute_result"
    }
   ],
   "source": [
    "input_ids"
   ]
  },
  {
   "cell_type": "code",
   "execution_count": null,
   "metadata": {},
   "outputs": [],
   "source": [
    "from utils import Config\n",
    "\n",
    "config = Config()\n",
    "model = RoFormerEncoder(config)\n",
    "\n"
   ]
  },
  {
   "cell_type": "code",
   "execution_count": null,
   "metadata": {},
   "outputs": [],
   "source": [
    "from datasets import load_dataset\n",
    "# Load the OpenWebText dataset\n",
    "dataset = load_dataset(\"Geralt-Targaryen/openwebtext2\")\n",
    "\n",
    "# Print dataset info to verify loading\n",
    "print(f\"Dataset loaded: {dataset}\")\n",
    "print(f\"Dataset structure: {dataset.keys()}\")\n",
    "print(f\"Number of examples: {len(dataset['train'])}\")\n",
    "\n",
    "# Preview a sample from the dataset\n",
    "print(\"\\nSample from dataset:\")\n",
    "print(dataset['train'][0])\n"
   ]
  },
  {
   "cell_type": "code",
   "execution_count": null,
   "metadata": {},
   "outputs": [],
   "source": [
    "from utils import config\n",
    "from torch.utils.data import DataLoader\n",
    "import torch.optim as optim\n",
    "import torch.nn as nn\n",
    "from models.roformer import RoFormerEncoder\n",
    "\n",
    "model_config = config.Config()\n",
    "training_config = config.TrainingConfig()\n",
    "\n",
    "model = RoFormerEncoder(model_config)\n",
    "criterion = nn.CrossEntropyLoss()\n",
    "optimizer = optim.AdamW(model.parameters(), lr=training_config.learning_rate)\n",
    "\n",
    "for epoch in range(training_config.steps):\n",
    "    for batch in DataLoader(dataset, batch_size=training_config.batch_size, shuffle=True):\n",
    "        input_ids = batch['input_ids']\n",
    "        labels = batch['labels']\n",
    "\n",
    "        outputs = model(input_ids)\n",
    "        loss = criterion(outputs, labels)\n",
    "\n",
    "        optimizer.zero_grad()\n",
    "        loss.backward()\n",
    "        optimizer.step()\n",
    "\n",
    "    print(f\"Epoch {epoch} loss: {loss.item()}\")"
   ]
  }
 ],
 "metadata": {
  "kernelspec": {
   "display_name": "Transformer Examples",
   "language": "python",
   "name": "transformer-examples"
  },
  "language_info": {
   "codemirror_mode": {
    "name": "ipython",
    "version": 3
   },
   "file_extension": ".py",
   "mimetype": "text/x-python",
   "name": "python",
   "nbconvert_exporter": "python",
   "pygments_lexer": "ipython3",
   "version": "3.12.3"
  }
 },
 "nbformat": 4,
 "nbformat_minor": 2
}
