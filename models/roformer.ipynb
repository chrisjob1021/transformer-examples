{
 "cells": [
  {
   "cell_type": "code",
   "execution_count": 2,
   "metadata": {},
   "outputs": [],
   "source": [
    "from transformers import AutoTokenizer\n",
    "from roformer import RoFormerEncoder\n",
    "from utils import Config\n",
    "\n",
    "tokenizer = AutoTokenizer.from_pretrained(\"gpt2\")\n",
    "\n",
    "prompt = \"Hello, how are you?\"\n",
    "input_ids = tokenizer(prompt, return_tensors=\"pt\").input_ids\n"
   ]
  },
  {
   "cell_type": "code",
   "execution_count": 3,
   "metadata": {},
   "outputs": [
    {
     "data": {
      "text/plain": [
       "torch.Size([1, 6])"
      ]
     },
     "execution_count": 3,
     "metadata": {},
     "output_type": "execute_result"
    }
   ],
   "source": [
    "input_ids.shape"
   ]
  },
  {
   "cell_type": "code",
   "execution_count": 7,
   "metadata": {},
   "outputs": [
    {
     "name": "stdout",
     "output_type": "stream",
     "text": [
      "Vocabulary size: 50257\n",
      "Decoded text:  AHL Eachuses McL Rh1000\n"
     ]
    }
   ],
   "source": [
    "import torch\n",
    "\n",
    "# Get the vocabulary size from the tokenizer\n",
    "vocab_size = len(tokenizer.get_vocab())\n",
    "print(f\"Vocabulary size: {vocab_size}\")\n",
    "\n",
    "config = Config(vocab_size=vocab_size)\n",
    "model = RoFormerEncoder(config)\n",
    "logits = model(input_ids)\n",
    "\n",
    "predicted_token_ids = torch.argmax(logits, dim=-1).tolist()\n",
    "decoded_text = tokenizer.decode(predicted_token_ids[0])\n",
    "print(f\"Decoded text: {decoded_text}\")"
   ]
  },
  {
   "cell_type": "code",
   "execution_count": null,
   "metadata": {},
   "outputs": [],
   "source": [
    "# from utils import config\n",
    "# from torch.utils.data import DataLoader\n",
    "# import torch.optim as optim\n",
    "# import torch.nn as nn\n",
    "# from models.roformer import RoFormerEncoder\n",
    "\n",
    "# model_config = config.Config()\n",
    "# training_config = config.TrainingConfig()\n",
    "\n",
    "# model = RoFormerEncoder(model_config)\n",
    "# criterion = nn.CrossEntropyLoss()\n",
    "# optimizer = optim.AdamW(model.parameters(), lr=training_config.learning_rate)\n",
    "\n",
    "# for epoch in range(training_config.steps):\n",
    "#     for batch in DataLoader(dataset, batch_size=training_config.batch_size, shuffle=True):\n",
    "#         input_ids = batch['input_ids']\n",
    "#         labels = batch['labels']\n",
    "\n",
    "#         outputs = model(input_ids)\n",
    "#         loss = criterion(outputs, labels)\n",
    "\n",
    "#         optimizer.zero_grad()\n",
    "#         loss.backward()\n",
    "#         optimizer.step()\n",
    "\n",
    "#     print(f\"Epoch {epoch} loss: {loss.item()}\")"
   ]
  }
 ],
 "metadata": {
  "kernelspec": {
   "display_name": "Transformer Examples",
   "language": "python",
   "name": "transformer-examples"
  },
  "language_info": {
   "codemirror_mode": {
    "name": "ipython",
    "version": 3
   },
   "file_extension": ".py",
   "mimetype": "text/x-python",
   "name": "python",
   "nbconvert_exporter": "python",
   "pygments_lexer": "ipython3",
   "version": "3.12.3"
  }
 },
 "nbformat": 4,
 "nbformat_minor": 2
}
