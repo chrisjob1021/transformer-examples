{
 "cells": [
  {
   "cell_type": "code",
   "execution_count": 2,
   "metadata": {},
   "outputs": [
    {
     "name": "stdout",
     "output_type": "stream",
     "text": [
      "out torch.Size([2, 10, 256]) tensor([[[-0.2003,  1.9455, -1.1500,  ...,  0.5612, -0.0545,  0.1132],\n",
      "         [ 0.7728,  0.0369, -0.4510,  ...,  0.2892,  0.9146,  0.0000],\n",
      "         [ 0.2769, -0.0000,  0.3956,  ...,  0.0000,  0.0246,  2.2579],\n",
      "         ...,\n",
      "         [-0.0000,  0.5596, -1.7184,  ..., -0.3307, -0.2437,  2.3604],\n",
      "         [ 1.4973,  0.0000,  0.0000,  ...,  0.0000,  0.9964, -1.8724],\n",
      "         [ 1.9963, -1.4573,  2.3701,  ...,  2.9268, -0.0726,  2.5890]],\n",
      "\n",
      "        [[-1.8893,  2.4850,  0.4747,  ...,  1.9804, -1.2861,  2.6633],\n",
      "         [ 2.5008,  1.0674,  2.3142,  ...,  0.8580,  1.9150,  1.0043],\n",
      "         [ 0.9013,  0.0246,  1.6235,  ...,  0.0000,  0.6060,  2.1762],\n",
      "         ...,\n",
      "         [ 2.6688,  2.6902,  1.3998,  ...,  2.1366,  0.3219,  1.5327],\n",
      "         [ 0.8707,  0.1936,  0.0000,  ...,  1.5159, -1.0056,  1.9478],\n",
      "         [ 1.4007, -2.1482,  0.3100,  ...,  1.0951,  0.0000,  1.5758]]])\n"
     ]
    }
   ],
   "source": [
    "from utils import Config\n",
    "from attention.positional_encoding import AbsolutePositionalEncoding\n",
    "import torch\n",
    "\n",
    "config = Config(vocab_size=10000)\n",
    "x = torch.randn(2, 10, config.d_model)\n",
    "out = AbsolutePositionalEncoding(config)(x)\n",
    "print(\"out\", out.shape, out)"
   ]
  }
 ],
 "metadata": {
  "kernelspec": {
   "display_name": ".venv",
   "language": "python",
   "name": "python3"
  },
  "language_info": {
   "codemirror_mode": {
    "name": "ipython",
    "version": 3
   },
   "file_extension": ".py",
   "mimetype": "text/x-python",
   "name": "python",
   "nbconvert_exporter": "python",
   "pygments_lexer": "ipython3",
   "version": "3.13.2"
  }
 },
 "nbformat": 4,
 "nbformat_minor": 2
}
