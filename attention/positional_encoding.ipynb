{
 "cells": [
  {
   "cell_type": "code",
   "execution_count": 2,
   "metadata": {},
   "outputs": [
    {
     "name": "stdout",
     "output_type": "stream",
     "text": [
      "out torch.Size([2, 10, 256]) tensor([[[-1.5107,  0.5081, -0.3890,  ...,  0.0000, -1.8911, -0.7250],\n",
      "         [ 0.5657,  1.6683, -0.0000,  ...,  1.3647,  1.1399,  1.2179],\n",
      "         [ 0.7758,  2.1646,  2.4853,  ...,  0.5311, -1.0407,  0.0000],\n",
      "         ...,\n",
      "         [-0.7851,  2.8474, -2.0020,  ..., -1.1109, -0.0000,  2.8505],\n",
      "         [ 2.2029, -0.3086,  1.4804,  ...,  0.4968, -0.9076,  2.0772],\n",
      "         [ 0.0000,  0.6456, -0.2367,  ...,  1.3380, -0.7521,  1.8333]],\n",
      "\n",
      "        [[-0.0000,  0.2794,  2.3124,  ...,  0.7635,  0.0000,  0.9821],\n",
      "         [ 0.6346,  1.2212, -1.1947,  ...,  1.6522,  0.4893,  0.1723],\n",
      "         [ 1.0511,  0.1748,  0.9154,  ..., -0.0000,  0.2788,  0.2112],\n",
      "         ...,\n",
      "         [-0.1548,  0.0000, -1.7162,  ..., -0.0378, -0.9439, -0.5834],\n",
      "         [ 2.3156,  1.4205, -0.9615,  ...,  1.4371,  0.1122, -0.8919],\n",
      "         [ 2.0968, -3.0186,  0.1640,  ...,  2.6820, -1.7056,  2.9355]]])\n"
     ]
    }
   ],
   "source": [
    "from utils import Config\n",
    "from attention.positional_encoding import AbsolutePositionalEncoding\n",
    "import torch\n",
    "\n",
    "config = Config(vocab_size=10000)\n",
    "x = torch.randn(2, 10, config.d_model)\n",
    "out = AbsolutePositionalEncoding(config)(x)\n",
    "print(\"out\", out.shape, out)"
   ]
  }
 ],
 "metadata": {
  "kernelspec": {
   "display_name": ".venv",
   "language": "python",
   "name": "python3"
  },
  "language_info": {
   "codemirror_mode": {
    "name": "ipython",
    "version": 3
   },
   "file_extension": ".py",
   "mimetype": "text/x-python",
   "name": "python",
   "nbconvert_exporter": "python",
   "pygments_lexer": "ipython3",
   "version": "3.13.2"
  }
 },
 "nbformat": 4,
 "nbformat_minor": 2
}
