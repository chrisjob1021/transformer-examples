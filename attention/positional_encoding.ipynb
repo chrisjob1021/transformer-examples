{
 "cells": [
  {
   "cell_type": "code",
   "execution_count": null,
   "metadata": {},
   "outputs": [
    {
     "ename": "AttributeError",
     "evalue": "'Config' object has no attribute 'd_model'",
     "output_type": "error",
     "traceback": [
      "\u001b[31m---------------------------------------------------------------------------\u001b[39m",
      "\u001b[31mAttributeError\u001b[39m                            Traceback (most recent call last)",
      "\u001b[36mCell\u001b[39m\u001b[36m \u001b[39m\u001b[32mIn[2]\u001b[39m\u001b[32m, line 6\u001b[39m\n\u001b[32m      3\u001b[39m \u001b[38;5;28;01mimport\u001b[39;00m\u001b[38;5;250m \u001b[39m\u001b[34;01mtorch\u001b[39;00m\n\u001b[32m      5\u001b[39m config = Config()\n\u001b[32m----> \u001b[39m\u001b[32m6\u001b[39m x = torch.randn(\u001b[32m2\u001b[39m, \u001b[32m10\u001b[39m, \u001b[43mconfig\u001b[49m\u001b[43m.\u001b[49m\u001b[43md_model\u001b[49m)\n\u001b[32m      7\u001b[39m out = AbsolutePositionalEncoding(config)(x)\n\u001b[32m      8\u001b[39m \u001b[38;5;28mprint\u001b[39m(\u001b[33m\"\u001b[39m\u001b[33mout\u001b[39m\u001b[33m\"\u001b[39m, out.shape, out)\n",
      "\u001b[31mAttributeError\u001b[39m: 'Config' object has no attribute 'd_model'"
     ]
    }
   ],
   "source": [
    "from utils import Config\n",
    "from attention.positional_encoding import AbsolutePositionalEncoding\n",
    "import torch\n",
    "\n",
    "config = Config()\n",
    "x = torch.randn(2, 10, config.d_model)\n",
    "out = AbsolutePositionalEncoding(config)(x)\n",
    "print(\"out\", out.shape, out)"
   ]
  }
 ],
 "metadata": {
  "kernelspec": {
   "display_name": ".venv",
   "language": "python",
   "name": "python3"
  },
  "language_info": {
   "codemirror_mode": {
    "name": "ipython",
    "version": 3
   },
   "file_extension": ".py",
   "mimetype": "text/x-python",
   "name": "python",
   "nbconvert_exporter": "python",
   "pygments_lexer": "ipython3",
   "version": "3.13.2"
  }
 },
 "nbformat": 4,
 "nbformat_minor": 2
}
