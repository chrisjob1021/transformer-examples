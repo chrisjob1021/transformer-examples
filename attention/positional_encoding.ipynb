{
 "cells": [
  {
   "cell_type": "code",
   "execution_count": null,
   "metadata": {},
   "outputs": [
    {
     "name": "stdout",
     "output_type": "stream",
     "text": [
      "out torch.Size([2, 10, 256]) tensor([[[-1.1179,  0.0000, -0.8804,  ...,  0.8103,  0.7556, -0.1611],\n",
      "         [ 1.7102,  1.3881,  2.1578,  ...,  0.9415,  0.6291,  0.0000],\n",
      "         [-2.0826, -1.2052,  3.0772,  ...,  0.0000,  0.2433,  0.1037],\n",
      "         ...,\n",
      "         [ 0.1126,  1.4355, -0.1940,  ...,  1.0788,  0.1686,  0.0000],\n",
      "         [ 1.1448, -0.8019,  1.0412,  ..., -0.4681, -0.7391, -0.5108],\n",
      "         [ 0.1109, -1.8979,  1.9857,  ..., -0.9849, -1.3407, -0.7752]],\n",
      "\n",
      "        [[ 0.3318, -0.1198,  2.4734,  ..., -0.3543, -1.2490,  0.7190],\n",
      "         [ 0.7253,  1.0385,  0.0000,  ...,  2.3237,  0.1321,  0.8829],\n",
      "         [ 1.3985, -2.2340,  0.8446,  ...,  0.0000, -0.3518,  1.2444],\n",
      "         ...,\n",
      "         [ 0.7653,  0.6374,  1.3009,  ...,  0.0000, -0.4902,  0.5606],\n",
      "         [-1.8296, -1.4034,  4.2447,  ...,  0.5855, -1.9164,  1.7405],\n",
      "         [ 0.5476, -0.5918,  0.0000,  ...,  0.1292,  0.4604,  1.1395]]])\n"
     ]
    }
   ],
   "source": [
    "from attention.config import Config\n",
    "from attention.positional_encoding import AbsolutePositionalEncoding\n",
    "import torch\n",
    "\n",
    "config = Config()\n",
    "x = torch.randn(2, 10, config.dim)\n",
    "out = AbsolutePositionalEncoding(config)(x)\n",
    "print(\"out\", out.shape, out)"
   ]
  },
  {
   "cell_type": "code",
   "execution_count": null,
   "metadata": {},
   "outputs": [],
   "source": []
  }
 ],
 "metadata": {
  "kernelspec": {
   "display_name": ".venv",
   "language": "python",
   "name": "python3"
  },
  "language_info": {
   "codemirror_mode": {
    "name": "ipython",
    "version": 3
   },
   "file_extension": ".py",
   "mimetype": "text/x-python",
   "name": "python",
   "nbconvert_exporter": "python",
   "pygments_lexer": "ipython3",
   "version": "3.13.2"
  }
 },
 "nbformat": 4,
 "nbformat_minor": 2
}
