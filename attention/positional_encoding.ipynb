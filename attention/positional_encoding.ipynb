{
 "cells": [
  {
   "cell_type": "code",
   "execution_count": 1,
   "metadata": {},
   "outputs": [
    {
     "name": "stdout",
     "output_type": "stream",
     "text": [
      "out torch.Size([2, 10, 256]) tensor([[[ 0.1295,  1.0736, -0.7624,  ...,  1.3528, -0.2467,  1.2765],\n",
      "         [ 1.2753,  0.7676, -1.1692,  ..., -0.0757,  1.0975,  2.1604],\n",
      "         [ 0.0000,  0.3765,  1.5725,  ...,  1.7435,  0.0000,  0.0362],\n",
      "         ...,\n",
      "         [ 0.9453,  1.7097, -0.2423,  ...,  2.4590,  0.4531,  1.4076],\n",
      "         [ 2.0787, -0.0000,  0.9858,  ...,  2.2479, -3.0831,  0.0999],\n",
      "         [ 1.2964,  0.6371,  0.0000,  ...,  0.0492, -1.1093,  2.0029]],\n",
      "\n",
      "        [[-0.0884,  0.2647, -0.2120,  ...,  0.9652,  0.3125,  0.9381],\n",
      "         [ 0.0977,  1.2178,  2.2373,  ...,  1.8293, -0.3152,  1.5333],\n",
      "         [ 2.4074, -0.6704, -0.9024,  ..., -0.7537,  1.4162,  1.6468],\n",
      "         ...,\n",
      "         [ 1.2143, -0.1816, -0.0286,  ...,  1.4077,  0.4123,  1.1262],\n",
      "         [ 1.6613,  0.1493,  0.4764,  ...,  0.6469,  2.5643,  0.0000],\n",
      "         [-0.0000, -3.4275, -0.7242,  ...,  0.8619, -1.9314,  0.0000]]])\n"
     ]
    }
   ],
   "source": [
    "from utils import Config\n",
    "from attention.positional_encoding import AbsolutePositionalEncoding\n",
    "import torch\n",
    "\n",
    "config = Config()\n",
    "x = torch.randn(2, 10, config.d_model)\n",
    "out = AbsolutePositionalEncoding(config)(x)\n",
    "print(\"out\", out.shape, out)"
   ]
  }
 ],
 "metadata": {
  "kernelspec": {
   "display_name": ".venv",
   "language": "python",
   "name": "python3"
  },
  "language_info": {
   "codemirror_mode": {
    "name": "ipython",
    "version": 3
   },
   "file_extension": ".py",
   "mimetype": "text/x-python",
   "name": "python",
   "nbconvert_exporter": "python",
   "pygments_lexer": "ipython3",
   "version": "3.13.2"
  }
 },
 "nbformat": 4,
 "nbformat_minor": 2
}
