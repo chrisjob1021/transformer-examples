{
 "cells": [
  {
   "cell_type": "code",
   "execution_count": 9,
   "metadata": {},
   "outputs": [
    {
     "name": "stdout",
     "output_type": "stream",
     "text": [
      "Debugger already running or port in use\n"
     ]
    }
   ],
   "source": [
    "import debugpy\n",
    "\n",
    "# 5678 is the default port used by VS Code\n",
    "# Wait for the debugger to attach\n",
    "try:\n",
    "    debugpy.listen(5678)\n",
    "    # print(\"Waiting for debugger to attach...\")\n",
    "    # debugpy.wait_for_client()\n",
    "    # print(\"Debugger attached!\")\n",
    "except RuntimeError:\n",
    "    print(\"Debugger already running or port in use\")\n"
   ]
  },
  {
   "cell_type": "code",
   "execution_count": 10,
   "metadata": {},
   "outputs": [
    {
     "data": {
      "text/plain": [
       "tensor([[[[ 0.5274,  0.8042],\n",
       "          [ 0.0315,  0.3469],\n",
       "          [ 0.0718,  0.4899],\n",
       "          [-0.1393,  0.3398],\n",
       "          [ 0.0846,  0.3854],\n",
       "          [ 0.1250,  0.4507],\n",
       "          [ 0.0540,  0.3683],\n",
       "          [ 0.1422,  0.3420],\n",
       "          [-0.1071,  0.2721],\n",
       "          [-0.2471,  0.3548]],\n",
       "\n",
       "         [[-0.0423,  0.0039],\n",
       "          [-0.0258,  0.1416],\n",
       "          [ 0.1330,  0.3233],\n",
       "          [-0.1436,  0.1409],\n",
       "          [-0.1506,  0.1366],\n",
       "          [-0.1648,  0.0375],\n",
       "          [-0.1723, -0.0032],\n",
       "          [-0.2154, -0.0729],\n",
       "          [-0.3220, -0.1818],\n",
       "          [-0.2159, -0.0919]]],\n",
       "\n",
       "\n",
       "        [[[ 0.0719,  0.1714],\n",
       "          [ 0.1818,  0.2414],\n",
       "          [ 0.7982, -0.7287],\n",
       "          [ 0.6017, -0.4494],\n",
       "          [ 0.4529, -0.3205],\n",
       "          [ 0.2667,  0.3595],\n",
       "          [ 0.1369, -0.6040],\n",
       "          [ 0.0524,  0.0613],\n",
       "          [ 0.1182, -0.5420],\n",
       "          [ 0.0828, -0.3984]],\n",
       "\n",
       "         [[-0.6238, -0.4433],\n",
       "          [-0.2472, -0.0723],\n",
       "          [-0.7679, -0.3535],\n",
       "          [-1.0499, -0.5158],\n",
       "          [-0.9977, -0.5633],\n",
       "          [-0.4301, -0.3307],\n",
       "          [-1.1109, -0.5909],\n",
       "          [-0.8301, -0.4653],\n",
       "          [-0.9757, -0.5482],\n",
       "          [-1.0903, -0.5718]]]], grad_fn=<UnsafeViewBackward0>)"
      ]
     },
     "execution_count": 10,
     "metadata": {},
     "output_type": "execute_result"
    }
   ],
   "source": [
    "import torch\n",
    "from attention import MultiHeadAttention\n",
    "from utils import Config\n",
    "import torch.nn as nn\n",
    "\n",
    "config = Config(vocab_size=10000, d_model=4, num_heads=2, per_head_dim=2)\n",
    "W_O = nn.Linear(config.d_model, config.d_model)\n",
    "attn = MultiHeadAttention(config, W_O)\n",
    "x = torch.randn(2, 10, config.d_model)\n",
    "o, attn_scores = attn(x)\n",
    "attn_scores\n"
   ]
  }
 ],
 "metadata": {
  "kernelspec": {
   "display_name": "Transformer Examples",
   "language": "python",
   "name": "transformer-examples"
  },
  "language_info": {
   "codemirror_mode": {
    "name": "ipython",
    "version": 3
   },
   "file_extension": ".py",
   "mimetype": "text/x-python",
   "name": "python",
   "nbconvert_exporter": "python",
   "pygments_lexer": "ipython3",
   "version": "3.12.3"
  }
 },
 "nbformat": 4,
 "nbformat_minor": 2
}
