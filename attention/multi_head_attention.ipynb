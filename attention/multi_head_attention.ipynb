{
 "cells": [
  {
   "cell_type": "code",
   "execution_count": 1,
   "metadata": {},
   "outputs": [
    {
     "name": "stdout",
     "output_type": "stream",
     "text": [
      "Debugger already running or port in use\n"
     ]
    }
   ],
   "source": [
    "import debugpy\n",
    "\n",
    "# 5678 is the default port used by VS Code\n",
    "# Wait for the debugger to attach\n",
    "try:\n",
    "    debugpy.listen(5678)\n",
    "    # print(\"Waiting for debugger to attach...\")\n",
    "    # debugpy.wait_for_client()\n",
    "    # print(\"Debugger attached!\")\n",
    "except RuntimeError:\n",
    "    print(\"Debugger already running or port in use\")\n"
   ]
  },
  {
   "cell_type": "code",
   "execution_count": 2,
   "metadata": {},
   "outputs": [
    {
     "name": "stdout",
     "output_type": "stream",
     "text": [
      "Using device: cpu\n"
     ]
    },
    {
     "data": {
      "text/plain": [
       "tensor([[-0.7116, -0.1178,  0.0584, -0.0605],\n",
       "        [-0.6314, -0.1076,  0.0853, -0.1170],\n",
       "        [-0.4658, -0.0088,  0.2104, -0.1884],\n",
       "        [-0.4019, -0.0056,  0.2593, -0.1459],\n",
       "        [-0.3180,  0.0324,  0.3298, -0.1916],\n",
       "        [-0.2988,  0.0059,  0.3183, -0.1816],\n",
       "        [-0.3082,  0.0287,  0.3156, -0.2219],\n",
       "        [-0.3064,  0.0608,  0.3320, -0.2511],\n",
       "        [-0.3974,  0.0840,  0.3563, -0.2043],\n",
       "        [-0.3872,  0.1145,  0.3797, -0.2359]], grad_fn=<UnbindBackward0>)"
      ]
     },
     "execution_count": 2,
     "metadata": {},
     "output_type": "execute_result"
    }
   ],
   "source": [
    "import torch\n",
    "from attention import MultiHeadAttention\n",
    "from utils import Config\n",
    "import torch.nn as nn\n",
    "\n",
    "# Check if CUDA is available and set device accordingly\n",
    "device = torch.device(\"cuda\" if torch.cuda.is_available() else \"cpu\")\n",
    "print(f\"Using device: {device}\")\n",
    "\n",
    "\n",
    "config = Config(vocab_size=10000, d_model=4, num_heads=2, per_head_dim=2)\n",
    "W_O = nn.Linear(config.d_model, config.d_model)\n",
    "attn = MultiHeadAttention(config, W_O).to(device)\n",
    "x = torch.randn(2, 10, config.d_model).to(device)\n",
    "o, attn_scores = attn(x)\n",
    "attn_scores\n"
   ]
  }
 ],
 "metadata": {
  "kernelspec": {
   "display_name": ".venv",
   "language": "python",
   "name": "python3"
  },
  "language_info": {
   "codemirror_mode": {
    "name": "ipython",
    "version": 3
   },
   "file_extension": ".py",
   "mimetype": "text/x-python",
   "name": "python",
   "nbconvert_exporter": "python",
   "pygments_lexer": "ipython3",
   "version": "3.13.2"
  }
 },
 "nbformat": 4,
 "nbformat_minor": 2
}
