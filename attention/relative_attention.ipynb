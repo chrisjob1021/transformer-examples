{
 "cells": [
  {
   "cell_type": "code",
   "execution_count": 1,
   "metadata": {},
   "outputs": [
    {
     "name": "stdout",
     "output_type": "stream",
     "text": [
      "Input tensor shape: torch.Size([2, 10, 256])\n",
      "Output tensor shape: torch.Size([2, 10, 256])\n"
     ]
    }
   ],
   "source": [
    "import torch\n",
    "from attention import RelativeMultiHeadSelfAttention\n",
    "from utils import Config\n",
    "\n",
    "# Setup example parameters\n",
    "batch_size = 2\n",
    "seq_len = 10\n",
    "\n",
    "# Create an instance of the model\n",
    "config = Config()\n",
    "attn = RelativeMultiHeadSelfAttention(config)\n",
    "\n",
    "# Create a random input tensor using the config dimensions\n",
    "x = torch.randn(batch_size, seq_len, config.d_model)\n",
    "print(f\"Input tensor shape: {x.shape}\") \n",
    "\n",
    "out = attn(x)\n",
    "print(f\"Output tensor shape: {out.shape}\")"
   ]
  }
 ],
 "metadata": {
  "kernelspec": {
   "display_name": ".venv",
   "language": "python",
   "name": "python3"
  },
  "language_info": {
   "codemirror_mode": {
    "name": "ipython",
    "version": 3
   },
   "file_extension": ".py",
   "mimetype": "text/x-python",
   "name": "python",
   "nbconvert_exporter": "python",
   "pygments_lexer": "ipython3",
   "version": "3.13.2"
  }
 },
 "nbformat": 4,
 "nbformat_minor": 2
}
